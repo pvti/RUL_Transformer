{
  "nbformat": 4,
  "nbformat_minor": 0,
  "metadata": {
    "colab": {
      "provenance": [],
      "machine_shape": "hm",
      "gpuType": "V100",
      "authorship_tag": "ABX9TyPTeAPJzVKvOZBTAhhZxriy",
      "include_colab_link": true
    },
    "kernelspec": {
      "name": "python3",
      "display_name": "Python 3"
    },
    "language_info": {
      "name": "python"
    },
    "accelerator": "GPU"
  },
  "cells": [
    {
      "cell_type": "markdown",
      "metadata": {
        "id": "view-in-github",
        "colab_type": "text"
      },
      "source": [
        "<a href=\"https://colab.research.google.com/github/Minhvt34/RUL_Transformer/blob/main/MiniTraining.ipynb\" target=\"_parent\"><img src=\"https://colab.research.google.com/assets/colab-badge.svg\" alt=\"Open In Colab\"/></a>"
      ]
    },
    {
      "cell_type": "code",
      "execution_count": 1,
      "metadata": {
        "colab": {
          "base_uri": "https://localhost:8080/"
        },
        "id": "5ZxJbpWmQUZL",
        "outputId": "b8682a56-f2bc-4c6d-ccef-379f1e7212ff"
      },
      "outputs": [
        {
          "output_type": "stream",
          "name": "stdout",
          "text": [
            "Collecting tensorflow_addons\n",
            "  Downloading tensorflow_addons-0.21.0-cp310-cp310-manylinux_2_17_x86_64.manylinux2014_x86_64.whl (612 kB)\n",
            "\u001b[?25l     \u001b[90m━━━━━━━━━━━━━━━━━━━━━━━━━━━━━━━━━━━━━━━━\u001b[0m \u001b[32m0.0/612.1 kB\u001b[0m \u001b[31m?\u001b[0m eta \u001b[36m-:--:--\u001b[0m\r\u001b[2K     \u001b[91m━━━━━━━━━━━━━━━━━━━━\u001b[0m\u001b[91m╸\u001b[0m\u001b[90m━━━━━━━━━━━━━━━━━\u001b[0m \u001b[32m337.9/612.1 kB\u001b[0m \u001b[31m10.5 MB/s\u001b[0m eta \u001b[36m0:00:01\u001b[0m\r\u001b[2K     \u001b[90m━━━━━━━━━━━━━━━━━━━━━━━━━━━━━━━━━━━━━━\u001b[0m \u001b[32m612.1/612.1 kB\u001b[0m \u001b[31m13.3 MB/s\u001b[0m eta \u001b[36m0:00:00\u001b[0m\n",
            "\u001b[?25hRequirement already satisfied: packaging in /usr/local/lib/python3.10/dist-packages (from tensorflow_addons) (23.1)\n",
            "Collecting typeguard<3.0.0,>=2.7 (from tensorflow_addons)\n",
            "  Downloading typeguard-2.13.3-py3-none-any.whl (17 kB)\n",
            "Installing collected packages: typeguard, tensorflow_addons\n",
            "Successfully installed tensorflow_addons-0.21.0 typeguard-2.13.3\n"
          ]
        }
      ],
      "source": [
        "!pip install tensorflow_addons"
      ]
    },
    {
      "cell_type": "code",
      "source": [
        "import math\n",
        "import numpy as np\n",
        "import pandas as pd\n",
        "import tensorflow as tf\n",
        "from tensorflow import keras\n",
        "from tensorflow.keras import layers\n",
        "import tensorflow_addons as tfa\n",
        "import matplotlib.pyplot as plt\n",
        "from sklearn.model_selection import train_test_split\n",
        "from sklearn.metrics import roc_auc_score, average_precision_score, accuracy_score\n",
        "from tensorflow.keras.callbacks import EarlyStopping\n",
        "from sklearn.preprocessing import StandardScaler\n",
        "\n",
        "\n",
        "from tabtransformertf.models.fttransformer import FTTransformerEncoder, FTTransformer\n",
        "from tabtransformertf.utils.preprocessing import df_to_dataset, build_categorical_prep"
      ],
      "metadata": {
        "colab": {
          "base_uri": "https://localhost:8080/"
        },
        "id": "wwaIn6LkRVUx",
        "outputId": "2dd3a25d-3dcc-4c0f-f2bd-744dc3fb2542"
      },
      "execution_count": 2,
      "outputs": [
        {
          "output_type": "stream",
          "name": "stderr",
          "text": [
            "/usr/local/lib/python3.10/dist-packages/tensorflow_addons/utils/tfa_eol_msg.py:23: UserWarning: \n",
            "\n",
            "TensorFlow Addons (TFA) has ended development and introduction of new features.\n",
            "TFA has entered a minimal maintenance and release mode until a planned end of life in May 2024.\n",
            "Please modify downstream libraries to take dependencies from other repositories in our TensorFlow community (e.g. Keras, Keras-CV, and Keras-NLP). \n",
            "\n",
            "For more information see: https://github.com/tensorflow/addons/issues/2807 \n",
            "\n",
            "  warnings.warn(\n"
          ]
        }
      ]
    },
    {
      "cell_type": "code",
      "source": [
        "import random\n",
        "random.seed(42)"
      ],
      "metadata": {
        "id": "Dd5kDd5ARXvf"
      },
      "execution_count": 3,
      "outputs": []
    },
    {
      "cell_type": "code",
      "source": [
        "train_data_path = \"/content/data/b1_2_hor_data_raw.npy\"\n",
        "with open(train_data_path, \"rb\") as f:\n",
        "  train_b1_2 = np.load(f, allow_pickle=True)\n",
        "print(train_b1_2.shape)\n",
        "\n",
        "train_b1_2 = train_b1_2.reshape(-1, 256).astype(float)\n",
        "\n",
        "time_2 = np.linspace(0.001, 145.870000, train_b1_2.shape[0]*16)\n",
        "time_2 = time_2.reshape(-1, 16)\n",
        "\n",
        "train_b1_2 = np.concatenate((train_b1_2, time_2), axis = 1)\n",
        "train_b1_2.shape\n",
        "\n",
        "# Column information\n",
        "NUMERIC_FEATURES = [f'f{i}' for i in range(256)]\n",
        "#CATEGORICAL_FEATURES = ['state']\n",
        "TIME_FEATURES = [f't{i}' for i in range(16)]\n",
        "\n",
        "\n",
        "FEATURES = list(NUMERIC_FEATURES) + list(TIME_FEATURES)\n",
        "LABEL = 'rul'"
      ],
      "metadata": {
        "colab": {
          "base_uri": "https://localhost:8080/"
        },
        "id": "O28I8cGLRk-W",
        "outputId": "e5ea4409-0aa1-4788-ce9a-d3b4123da632"
      },
      "execution_count": 4,
      "outputs": [
        {
          "output_type": "stream",
          "name": "stdout",
          "text": [
            "(2229760,)\n"
          ]
        }
      ]
    },
    {
      "cell_type": "code",
      "source": [
        "train_data = pd.DataFrame(data=train_b1_2, columns=FEATURES)\n",
        "train_data.shape"
      ],
      "metadata": {
        "colab": {
          "base_uri": "https://localhost:8080/"
        },
        "id": "J5mqTrJ2Rw-H",
        "outputId": "b1e6ac19-3db3-4dd0-c743-d1a2cb780a47"
      },
      "execution_count": 5,
      "outputs": [
        {
          "output_type": "execute_result",
          "data": {
            "text/plain": [
              "(8710, 272)"
            ]
          },
          "metadata": {},
          "execution_count": 5
        }
      ]
    },
    {
      "cell_type": "code",
      "source": [
        "train_data[LABEL] = np.array(list(np.linspace(1.00, 0.001, train_b1_2.shape[0])))\n",
        "train_data[LABEL].mean()"
      ],
      "metadata": {
        "colab": {
          "base_uri": "https://localhost:8080/"
        },
        "id": "rf-gR1cyRza3",
        "outputId": "604abf3f-563f-492c-8a71-e79cef0a316e"
      },
      "execution_count": 6,
      "outputs": [
        {
          "output_type": "execute_result",
          "data": {
            "text/plain": [
              "0.5005000000000001"
            ]
          },
          "metadata": {},
          "execution_count": 6
        }
      ]
    },
    {
      "cell_type": "code",
      "source": [
        "train_data[FEATURES] = train_data[FEATURES].astype(float)\n",
        "# Train/test split\n",
        "X_train, X_val = train_test_split(train_data, test_size=0.2)\n",
        "\n",
        "sc = StandardScaler()\n",
        "X_train.loc[:, NUMERIC_FEATURES] = sc.fit_transform(X_train[NUMERIC_FEATURES])\n",
        "X_val.loc[:, NUMERIC_FEATURES] = sc.transform(X_val[NUMERIC_FEATURES])\n",
        "\n",
        "batch_size = 256\n",
        "train_dataset = df_to_dataset(X_train[FEATURES + [LABEL]], LABEL, batch_size=batch_size)\n",
        "val_dataset = df_to_dataset(X_val[FEATURES + [LABEL]], LABEL, batch_size=batch_size, shuffle=False)  # No shuffle"
      ],
      "metadata": {
        "colab": {
          "base_uri": "https://localhost:8080/"
        },
        "id": "AWkI1VlqR1Qt",
        "outputId": "44fc2fed-103c-459c-f9bc-2b9a9ffc08b3"
      },
      "execution_count": 7,
      "outputs": [
        {
          "output_type": "stream",
          "name": "stderr",
          "text": [
            "/content/tabtransformertf/utils/preprocessing.py:21: FutureWarning: Support for multi-dimensional indexing (e.g. `obj[:, None]`) is deprecated and will be removed in a future version.  Convert to a numpy array before indexing instead.\n",
            "  dataset[key] = value[:, tf.newaxis]\n",
            "/content/tabtransformertf/utils/preprocessing.py:21: FutureWarning: Support for multi-dimensional indexing (e.g. `obj[:, None]`) is deprecated and will be removed in a future version.  Convert to a numpy array before indexing instead.\n",
            "  dataset[key] = value[:, tf.newaxis]\n"
          ]
        }
      ]
    },
    {
      "cell_type": "code",
      "source": [
        "from tensorflow.keras.losses import Loss\n",
        "\n",
        "class MyHuberLoss(Loss):\n",
        "    # initialize instance attributes\n",
        "    def __init__(self, threshold=1):\n",
        "        super(MyHuberLoss, self).__init__()\n",
        "        self.threshold = threshold\n",
        "\n",
        "    # Compute loss\n",
        "    def call(self, y_true, y_pred):\n",
        "        error = y_true - y_pred\n",
        "        is_small_error = tf.abs(error) <= self.threshold\n",
        "        small_error_loss = tf.square(error) / 2\n",
        "        big_error_loss = self.threshold * (tf.abs(error) - self.threshold / 2)\n",
        "        return tf.where(is_small_error, small_error_loss, big_error_loss)"
      ],
      "metadata": {
        "id": "Tv5tiwTwR5ug"
      },
      "execution_count": 8,
      "outputs": []
    },
    {
      "cell_type": "code",
      "source": [
        "from tabtransformertf.models.fttransformer import Time2Vec\n",
        "t2v_encoder = Time2Vec(\n",
        "    time_features=TIME_FEATURES,\n",
        "    kernel_size=16,\n",
        "    t2v_emb_dim=16\n",
        ")"
      ],
      "metadata": {
        "id": "w9QVmMZ_R9Bw"
      },
      "execution_count": 9,
      "outputs": []
    },
    {
      "cell_type": "code",
      "source": [
        "ft_linear_encoder = FTTransformerEncoder(\n",
        "    numerical_features = NUMERIC_FEATURES,\n",
        "    categorical_features = [],\n",
        "    numerical_data = X_train[NUMERIC_FEATURES].values,\n",
        "    categorical_data = None,\n",
        "    y = None,\n",
        "    numerical_embedding_type='linear',\n",
        "    embedding_dim=128,\n",
        "    depth=4,\n",
        "    heads=8,\n",
        "    attn_dropout=0.2,\n",
        "    ff_dropout=0.2,\n",
        "    explainable=True\n",
        ")\n",
        "\n",
        "# Pass th encoder to the model\n",
        "ft_linear_model = FTTransformer(\n",
        "    encoder=ft_linear_encoder,\n",
        "    t2v_encoder=t2v_encoder,\n",
        "    out_dim=1,\n",
        "    out_activation=\"relu\",\n",
        ")\n",
        "\n",
        "LEARNING_RATE = 5e-4\n",
        "WEIGHT_DECAY = 0.0001\n",
        "NUM_EPOCHS = 2\n",
        "\n",
        "optimizer = tfa.optimizers.AdamW(\n",
        "        learning_rate=LEARNING_RATE, weight_decay=WEIGHT_DECAY\n",
        "    )\n",
        "\n",
        "ft_linear_model.compile(\n",
        "    optimizer = optimizer,\n",
        "    loss = {\"output\": MyHuberLoss(threshold=0.05), \"importances\": None},\n",
        "    metrics= {\"output\": [tf.keras.metrics.RootMeanSquaredError(name='rmse')], \"importances\": None},\n",
        ")\n",
        "\n",
        "early = EarlyStopping(monitor=\"val_output_loss\", mode=\"min\", patience=20, restore_best_weights=True)\n",
        "callback_list = [early]\n",
        "ft_linear_history = ft_linear_model.fit(\n",
        "    train_dataset,\n",
        "    epochs=NUM_EPOCHS,\n",
        "    validation_data=val_dataset,\n",
        "    callbacks=callback_list\n",
        ")"
      ],
      "metadata": {
        "colab": {
          "base_uri": "https://localhost:8080/"
        },
        "id": "Gr680rNVR-64",
        "outputId": "59d0f818-6c07-4450-b46e-72977cab5dfa"
      },
      "execution_count": 10,
      "outputs": [
        {
          "output_type": "stream",
          "name": "stdout",
          "text": [
            "Epoch 1/2\n",
            "*****************time input shape: (None, 16, 1)\n",
            "*****************time input shape: (None, 16, 1)\n",
            "*****************time input shape: (None, 16, 1)\n",
            "28/28 [==============================] - ETA: 0s - loss: 0.0126 - output_loss: 0.0126 - output_rmse: 0.3688*****************time input shape: (None, 16, 1)\n",
            "28/28 [==============================] - 23s 410ms/step - loss: 0.0126 - output_loss: 0.0126 - output_rmse: 0.3688 - val_loss: 0.0076 - val_output_loss: 0.0076 - val_output_rmse: 0.2363\n",
            "Epoch 2/2\n",
            "28/28 [==============================] - 11s 371ms/step - loss: 0.0039 - output_loss: 0.0039 - output_rmse: 0.1530 - val_loss: 4.4526e-04 - val_output_loss: 4.4526e-04 - val_output_rmse: 0.0302\n"
          ]
        }
      ]
    },
    {
      "cell_type": "code",
      "source": [
        "ft_linear_model.summary()"
      ],
      "metadata": {
        "colab": {
          "base_uri": "https://localhost:8080/"
        },
        "id": "o0JneZK6SPCy",
        "outputId": "bb342a2d-2a25-443c-a18f-1b1f93ae35a2"
      },
      "execution_count": 11,
      "outputs": [
        {
          "output_type": "stream",
          "name": "stdout",
          "text": [
            "Model: \"ft_transformer\"\n",
            "_________________________________________________________________\n",
            " Layer (type)                Output Shape              Param #   \n",
            "=================================================================\n",
            " ft_transformer_encoder (FTT  multiple                 2277248   \n",
            " ransformerEncoder)                                              \n",
            "                                                                 \n",
            " layer_normalization_8 (Laye  multiple                 256       \n",
            " rNormalization)                                                 \n",
            "                                                                 \n",
            " dense_8 (Dense)             multiple                  2064      \n",
            "                                                                 \n",
            " dense_9 (Dense)             multiple                  289       \n",
            "                                                                 \n",
            " Time2VecLayer_SIN (Time2Vec  multiple                 34        \n",
            " )                                                               \n",
            "                                                                 \n",
            " flatten_1 (Flatten)         multiple                  0         \n",
            "                                                                 \n",
            "=================================================================\n",
            "Total params: 2,279,891\n",
            "Trainable params: 2,279,891\n",
            "Non-trainable params: 0\n",
            "_________________________________________________________________\n"
          ]
        }
      ]
    },
    {
      "cell_type": "code",
      "source": [
        "plt.plot(ft_linear_history.history['val_loss'], label='Linear Val Loss')\n",
        "plt.plot(ft_linear_history.history['val_output_rmse'], label='Linear RMSE')\n",
        "\n",
        "plt.title('Model Validation Loss and RMSE')\n",
        "plt.legend()\n",
        "plt.show()"
      ],
      "metadata": {
        "colab": {
          "base_uri": "https://localhost:8080/",
          "height": 452
        },
        "id": "McjkpoZ2SRtf",
        "outputId": "f052bdae-033f-497b-e799-6e7f8916c6b5"
      },
      "execution_count": 12,
      "outputs": [
        {
          "output_type": "display_data",
          "data": {
            "text/plain": [
              "<Figure size 640x480 with 1 Axes>"
            ],
            "image/png": "[encoded data removed]"
          },
          "metadata": {}
        }
      ]
    },
    {
      "cell_type": "code",
      "source": [
        "linear_val_preds = ft_linear_model.predict(val_dataset)"
      ],
      "metadata": {
        "colab": {
          "base_uri": "https://localhost:8080/"
        },
        "id": "YGuuG9DMSUZp",
        "outputId": "ad0bb1f7-86af-433c-8f2f-67ff9ca0e094"
      },
      "execution_count": 13,
      "outputs": [
        {
          "output_type": "stream",
          "name": "stdout",
          "text": [
            "*****************time input shape: (None, 16, 1)\n",
            "7/7 [==============================] - 2s 124ms/step\n"
          ]
        }
      ]
    },
    {
      "cell_type": "code",
      "source": [
        "from sklearn.metrics import mean_squared_error"
      ],
      "metadata": {
        "id": "zjyk2CAYSXR1"
      },
      "execution_count": 14,
      "outputs": []
    },
    {
      "cell_type": "code",
      "source": [
        "RMSE = np.sqrt(mean_squared_error(X_val[LABEL].values, linear_val_preds['output'].ravel()))\n",
        "RMSE"
      ],
      "metadata": {
        "colab": {
          "base_uri": "https://localhost:8080/"
        },
        "id": "c5nF9sRBSbUd",
        "outputId": "d59153ca-59b0-4764-af0f-f5f47184e1e5"
      },
      "execution_count": 15,
      "outputs": [
        {
          "output_type": "execute_result",
          "data": {
            "text/plain": [
              "0.030208034195433952"
            ]
          },
          "metadata": {},
          "execution_count": 15
        }
      ]
    }
  ]
}