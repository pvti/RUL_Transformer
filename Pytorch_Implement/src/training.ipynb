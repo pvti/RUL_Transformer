{
 "cells": [
  {
   "cell_type": "code",
   "execution_count": 1,
   "metadata": {},
   "outputs": [],
   "source": [
    "!pip install libzero\n",
    "!pip install torchmetrics"
   ]
  },
  {
   "cell_type": "code",
   "execution_count": 2,
   "metadata": {},
   "outputs": [],
   "source": [
    "import functional, data_preparation, modules, train\n",
    "import periodic_activations\n",
    "\n",
    "import torch\n",
    "import torch.nn as nn\n",
    "device = torch.device('cuda')"
   ]
  },
  {
   "cell_type": "code",
   "execution_count": 3,
   "metadata": {},
   "outputs": [],
   "source": [
    "X = {}\n",
    "y = {}\n",
    "X['train'], y['train'], X['val'], y['val'] = data_preparation.load_train('./data/train/', device)"
   ]
  },
  {
   "cell_type": "code",
   "execution_count": 4,
   "metadata": {},
   "outputs": [],
   "source": [
    "t2v_encoder = periodic_activations.SineActivation(1, 17)\n",
    "\n",
    "lr = 0.001\n",
    "weight_decay = 0.0\n",
    "n_classes = 1\n",
    "\n",
    "d_out = n_classes or 1\n",
    "\n",
    "model = modules.FTTransformer.make_default(\n",
    "    n_num_features = X['train'].shape[1],\n",
    "    cat_cardinalities=None,\n",
    "    last_layer_query_idx=[-1],  # it makes the model faster and does NOT affect its output\n",
    "    d_out=d_out,\n",
    "    t2v_encoder=t2v_encoder,\n",
    ")"
   ]
  },
  {
   "cell_type": "code",
   "execution_count": 5,
   "metadata": {},
   "outputs": [],
   "source": [
    "model.to(device)\n",
    "optimizer = (\n",
    "    model.make_default_optimizer()\n",
    "    if isinstance(model, modules.FTTransformer)\n",
    "    else torch.optim.AdamW(model.parameters(), lr=lr, weight_decay=weight_decay)\n",
    ")\n",
    "criterion = nn.HuberLoss(delta = 0.05)"
   ]
  },
  {
   "cell_type": "code",
   "execution_count": 8,
   "metadata": {},
   "outputs": [],
   "source": [
    "n_epochs = 2\n",
    "batch_size = 256\n",
    "checkpoint_path = '/content/output/best_model.pth'\n",
    "\n",
    "train.train(model, optimizer, criterion, n_epochs, batch_size, X, y, checkpoint_path, device)"
   ]
  },
  {
   "cell_type": "markdown",
   "metadata": {},
   "source": [
    "# Load test data"
   ]
  },
  {
   "cell_type": "code",
   "execution_count": 12,
   "metadata": {},
   "outputs": [],
   "source": [
    "test_1 = data_preparation.load_test('../data/test/', 1, device)\n",
    "test_2 = data_preparation.load_test('../data/test/', 2, device)\n",
    "test_3 = data_preparation.load_test('../data/test/', 3, device)"
   ]
  },
  {
   "cell_type": "code",
   "execution_count": 14,
   "metadata": {},
   "outputs": [
    {
     "data": {
      "text/plain": [
       "torch.Size([28030, 272])"
      ]
     },
     "execution_count": 14,
     "metadata": {},
     "output_type": "execute_result"
    }
   ],
   "source": [
    "test_1[0][0].shape"
   ]
  },
  {
   "cell_type": "code",
   "execution_count": 20,
   "metadata": {},
   "outputs": [],
   "source": [
    "X['test_1_1'], y['test_1_1'] = test_1[0][0], test_1[0][1]\n",
    "X['test_1_2'], y['test_1_2'] = test_1[1][0], test_1[1][1]\n",
    "X['test_1_3'], y['test_1_3'] = test_1[2][0], test_1[2][1]\n",
    "X['test_1_4'], y['test_1_4'] = test_1[3][0], test_1[3][1]\n",
    "X['test_1_5'], y['test_1_5'] = test_1[4][0], test_1[4][1]\n",
    "X['test_1_6'], y['test_1_6'] = test_1[5][0], test_1[5][1]\n",
    "X['test_1_7'], y['test_1_7'] = test_1[6][0], test_1[6][1]"
   ]
  },
  {
   "cell_type": "code",
   "execution_count": 21,
   "metadata": {},
   "outputs": [
    {
     "data": {
      "text/plain": [
       "torch.Size([8710, 272])"
      ]
     },
     "execution_count": 21,
     "metadata": {},
     "output_type": "execute_result"
    }
   ],
   "source": [
    "X['test_2_1'], y['test_2_1'] = test_2[0][0], test_2[0][1]\n",
    "X['test_2_2'], y['test_2_2'] = test_2[1][0], test_2[1][1]\n",
    "X['test_2_3'], y['test_2_3'] = test_2[2][0], test_2[2][1]\n",
    "X['test_2_4'], y['test_2_4'] = test_2[3][0], test_2[3][1]\n",
    "X['test_2_5'], y['test_2_5'] = test_2[4][0], test_2[4][1]\n",
    "X['test_2_6'], y['test_2_6'] = test_2[5][0], test_2[5][1]\n",
    "X['test_2_7'], y['test_2_7'] = test_2[6][0], test_2[6][1]"
   ]
  },
  {
   "cell_type": "code",
   "execution_count": 13,
   "metadata": {},
   "outputs": [],
   "source": [
    "X['test_3_1'], y['test_3_1'] = test_3[0][0], test_3[0][1]\n",
    "X['test_3_2'], y['test_3_2'] = test_3[1][0], test_3[1][1]\n",
    "X['test_3_3'], y['test_3_3'] = test_3[2][0], test_3[2][1]"
   ]
  },
  {
   "cell_type": "markdown",
   "metadata": {},
   "source": [
    "# Evaluate"
   ]
  },
  {
   "cell_type": "code",
   "execution_count": null,
   "metadata": {},
   "outputs": [],
   "source": [
    "RMSE_1, MSE_1 = functional.evaluate('validation', model, optimizer, X, y, \"test_1_1\", checkpoint_path, device)\n",
    "RMSE_2, MSE_2  = functional.evaluate('validation', model, optimizer, X, y, \"test_1_2\", checkpoint_path, device)\n",
    "RMSE_3, MSE_3  = functional.evaluate('validation', model, optimizer, X, y, \"test_1_3\", checkpoint_path, device)\n",
    "RMSE_4, MSE_4  = functional.evaluate('validation', model, optimizer, X, y, \"test_1_4\", checkpoint_path, device)\n",
    "RMSE_5, MSE_5  = functional.evaluate('validation', model, optimizer, X, y, \"test_1_5\", checkpoint_path, device)\n",
    "RMSE_6, MSE_6  = functional.evaluate('validation', model, optimizer, X, y, \"test_1_6\", checkpoint_path, device)\n",
    "RMSE_7, MSE_7  = functional.evaluate('validation', model, optimizer, X, y, \"test_1_7\", checkpoint_path, device)\n",
    "\n",
    "(RMSE_1, MSE_1), (RMSE_2, MSE_2), (RMSE_3, MSE_3), (RMSE_4, MSE_4), (RMSE_5, MSE_5), (RMSE_6, MSE_6), (RMSE_7, MSE_7)"
   ]
  },
  {
   "cell_type": "code",
   "execution_count": null,
   "metadata": {},
   "outputs": [],
   "source": [
    "RMSE_1, MSE_1 = functional.evaluate('validation', model, optimizer, X, y, \"test_2_1\", checkpoint_path, device)\n",
    "RMSE_2, MSE_2  = functional.evaluate('validation', model, optimizer, X, y, \"test_2_2\", checkpoint_path, device)\n",
    "RMSE_3, MSE_3  = functional.evaluate('validation', model, optimizer, X, y, \"test_2_3\", checkpoint_path, device)\n",
    "RMSE_4, MSE_4  = functional.evaluate('validation', model, optimizer, X, y, \"test_2_4\", checkpoint_path, device)\n",
    "RMSE_5, MSE_5  = functional.evaluate('validation', model, optimizer, X, y, \"test_2_5\", checkpoint_path, device)\n",
    "RMSE_6, MSE_6  = functional.evaluate('validation', model, optimizer, X, y, \"test_2_6\", checkpoint_path, device)\n",
    "RMSE_7, MSE_7  = functional.evaluate('validation', model, optimizer, X, y, \"test_2_7\", checkpoint_path, device)\n",
    "\n",
    "(RMSE_1, MSE_1), (RMSE_2, MSE_2), (RMSE_3, MSE_3), (RMSE_4, MSE_4), (RMSE_5, MSE_5), (RMSE_6, MSE_6), (RMSE_7, MSE_7)"
   ]
  },
  {
   "cell_type": "code",
   "execution_count": null,
   "metadata": {},
   "outputs": [],
   "source": [
    "RMSE_1, MSE_1 = functional.evaluate('validation', model, optimizer, X, y, \"test_3_1\", checkpoint_path, device)\n",
    "RMSE_2, MSE_2  = functional.evaluate('validation', model, optimizer, X, y, \"test_3_2\", checkpoint_path, device)\n",
    "RMSE_3, MSE_3  = functional.evaluate('validation', model, optimizer, X, y, \"test_3_3\", checkpoint_path, device)\n",
    "\n",
    "(RMSE_1, MSE_1), (RMSE_2, MSE_2), (RMSE_3, MSE_3)"
   ]
  }
 ],
 "metadata": {
  "kernelspec": {
   "display_name": "Python 3",
   "language": "python",
   "name": "python3"
  },
  "language_info": {
   "codemirror_mode": {
    "name": "ipython",
    "version": 3
   },
   "file_extension": ".py",
   "mimetype": "text/x-python",
   "name": "python",
   "nbconvert_exporter": "python",
   "pygments_lexer": "ipython3",
   "version": "3.8.2"
  },
  "orig_nbformat": 4
 },
 "nbformat": 4,
 "nbformat_minor": 2
}
