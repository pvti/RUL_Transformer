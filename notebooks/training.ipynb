{
 "cells": [
  {
   "cell_type": "code",
   "execution_count": null,
   "metadata": {},
   "outputs": [],
   "source": [
    "import math\n",
    "import numpy as np\n",
    "import pandas as pd\n",
    "import tensorflow as tf\n",
    "from tensorflow import keras\n",
    "from tensorflow.keras import layers\n",
    "import tensorflow_addons as tfa\n",
    "import matplotlib.pyplot as plt\n",
    "from sklearn.model_selection import train_test_split\n",
    "from sklearn.metrics import roc_auc_score, average_precision_score, accuracy_score\n",
    "from tensorflow.keras.callbacks import EarlyStopping\n",
    "from sklearn.preprocessing import StandardScaler\n",
    "\n",
    "\n",
    "from tabtransformertf.models.fttransformer import FTTransformerEncoder, FTTransformer\n",
    "from tabtransformertf.utils.preprocessing import df_to_dataset, build_categorical_prep"
   ]
  },
  {
   "cell_type": "markdown",
   "metadata": {},
   "source": [
    "Data Preparation"
   ]
  },
  {
   "cell_type": "markdown",
   "metadata": {},
   "source": [
    "Model settings"
   ]
  },
  {
   "cell_type": "code",
   "execution_count": null,
   "metadata": {},
   "outputs": [],
   "source": [
    "from tabtransformertf.models.fttransformer import Time2Vec\n",
    "t2v_encoder = Time2Vec(\n",
    "    time_features=TIME_FEATURES,\n",
    "    kernel_size=16,\n",
    "    t2v_emb_dim=16\n",
    ")"
   ]
  },
  {
   "cell_type": "code",
   "execution_count": null,
   "metadata": {},
   "outputs": [],
   "source": [
    "ft_linear_encoder = FTTransformerEncoder(\n",
    "    numerical_features = NUMERIC_FEATURES,\n",
    "    categorical_features = [],\n",
    "    numerical_data = X_train[NUMERIC_FEATURES].values,\n",
    "    categorical_data = None, \n",
    "    y = None,\n",
    "    numerical_embedding_type='linear',\n",
    "    embedding_dim=128,\n",
    "    depth=4,\n",
    "    heads=8,\n",
    "    attn_dropout=0.2,\n",
    "    ff_dropout=0.2,\n",
    "    explainable=True\n",
    ")\n",
    "\n",
    "# Pass th encoder to the model\n",
    "ft_linear_model = FTTransformer(\n",
    "    encoder=ft_linear_encoder,\n",
    "    t2v_encoder=t2v_encoder,\n",
    "    out_dim=1,\n",
    "    out_activation=\"relu\",\n",
    ")\n",
    "\n",
    "LEARNING_RATE = 5e-4\n",
    "WEIGHT_DECAY = 0.0001\n",
    "NUM_EPOCHS = 1000\n",
    "\n",
    "optimizer = tfa.optimizers.AdamW(\n",
    "        learning_rate=LEARNING_RATE, weight_decay=WEIGHT_DECAY\n",
    "    )\n",
    "\n",
    "ft_linear_model.compile(\n",
    "    optimizer = optimizer,\n",
    "    loss = {\"output\": MyHuberLoss(threshold=0.05), \"importances\": None},\n",
    "    metrics= {\"output\": [tf.keras.metrics.RootMeanSquaredError(name='rmse')], \"importances\": None},\n",
    ")\n",
    "\n",
    "early = EarlyStopping(monitor=\"val_output_loss\", mode=\"min\", patience=20, restore_best_weights=True)\n",
    "callback_list = [early]\n",
    "ft_linear_history = ft_linear_model.fit(\n",
    "    train_dataset, \n",
    "    epochs=NUM_EPOCHS, \n",
    "    validation_data=val_dataset,\n",
    "    callbacks=callback_list\n",
    ")"
   ]
  }
 ],
 "metadata": {
  "language_info": {
   "name": "python"
  },
  "orig_nbformat": 4
 },
 "nbformat": 4,
 "nbformat_minor": 2
}
